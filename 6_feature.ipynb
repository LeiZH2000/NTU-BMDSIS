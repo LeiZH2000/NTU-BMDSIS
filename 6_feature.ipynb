{
 "cells": [
  {
   "cell_type": "code",
   "execution_count": 1,
   "id": "7be050db-2183-475a-ae98-4a14ec7ab1f3",
   "metadata": {
    "tags": []
   },
   "outputs": [],
   "source": [
    "from Bio import SeqIO, motifs\n",
    "from Bio.Seq import Seq\n",
    "import pandas as pd\n",
    "import numpy as np\n",
    "import matplotlib.pyplot as plt\n",
    "import math\n",
    "from collections import Counter\n",
    "import shutil\n",
    "import os\n",
    "import csv\n",
    "from io import StringIO\n",
    "import random\n",
    "import re\n",
    "from Bio.SeqRecord import SeqRecord\n",
    "import torch\n",
    "from pycaret.classification import *\n",
    "import json\n",
    "import seaborn as sns\n",
    "\n",
    "from sklearn.model_selection import train_test_split"
   ]
  },
  {
   "cell_type": "code",
   "execution_count": null,
   "id": "d0e999d5-8f78-4f33-8903-778028c485d2",
   "metadata": {},
   "outputs": [],
   "source": [
    "# store the result of one hot coding DNA as json dictionary\n",
    "df = pd.read_csv(\"6_DNA_protein.csv\")\n",
    "df = df[df['Uniprot_ID'] != \"P48743\"]\n",
    "df = df[df['Uniprot_ID'] != \"Q53XW4\"]\n",
    "df.reset_index(drop=True, inplace=True)\n",
    "alphabet = 'ATCGX'\n",
    "one_hot_DNA = {}\n",
    "for n in range(len(df)):\n",
    "    input_string = df['DNA_Sequence'][n]\n",
    "    char_to_index = {char: i for i, char in enumerate(alphabet)}\n",
    "    one_hot_matrix = np.zeros((len(input_string), len(alphabet)),dtype=int)\n",
    "\n",
    "    for i, char in enumerate(input_string):\n",
    "        if char in char_to_index:\n",
    "            one_hot_matrix[i, char_to_index[char]] = 1\n",
    "    one_hot_matrix = one_hot_matrix.astype(str)\n",
    "    \n",
    "    chac_list = []\n",
    "    for i in range(len(one_hot_matrix)):\n",
    "        chac = ''\n",
    "        for j in range(len(one_hot_matrix[i])):\n",
    "            chac += one_hot_matrix[i][j]\n",
    "        chac_list.append(chac)\n",
    "    result = ''\n",
    "    for a in range(len(chac_list)):\n",
    "        result += chac_list[a]\n",
    "    one_hot_DNA[input_string] = result\n",
    "# Following part will store the one hot coding DNA into a json file.  \n",
    "'''\n",
    "with open('6_one_hot_encoding_DNA.json', 'w') as file:\n",
    "    json.dump(one_hot_DNA, file)\n",
    "'''"
   ]
  },
  {
   "cell_type": "code",
   "execution_count": null,
   "id": "46cd9c03-2ffc-45f4-b47b-63b6e4562cb3",
   "metadata": {},
   "outputs": [],
   "source": [
    "# store the result of Word2Vec DNA as json dictionary\n",
    "from gensim.models import Word2Vec\n",
    "result = {}\n",
    "for i in range(len(df)):\n",
    "    temp_gen = []\n",
    "    sequences = [df['DNA_Sequence'][i]]\n",
    "    k_mer_size = 3\n",
    "    k_mers = [''.join(seq[i:i+k_mer_size]) for seq in sequences for i in range(len(seq) - k_mer_size + 1)]\n",
    "\n",
    "    model = Word2Vec([k_mers], vector_size=11, window=5, min_count=1, workers=4)\n",
    "    for k_mer in k_mers:\n",
    "        temp_gen +=  model.wv[k_mer].tolist()  \n",
    "    result[sequences[0]] = temp_gen\n",
    "# Following part will store the Word2Vec DNA into a json file.  \n",
    "'''\n",
    "with open('6_Word2Vec_encoding_DNA.json', 'w') as file:\n",
    "    json.dump(result, file)\n",
    "'''   "
   ]
  },
  {
   "cell_type": "code",
   "execution_count": null,
   "id": "fcab6f7b-3709-43c4-86a6-5b510fe64375",
   "metadata": {},
   "outputs": [],
   "source": [
    "# store the result of protein embedding as json dictionary\n",
    "embeddings_0 = {}\n",
    "embeddings_33 = {}\n",
    "\n",
    "for file in file_name:\n",
    "    a = torch.load('human_650m/' + file)\n",
    "    embeddings_0[a['label'].split('|')[1]] = (a['mean_representations'][0].tolist())\n",
    "    embeddings_33[a['label'].split('|')[1]] = (a['mean_representations'][0].tolist())\n",
    "# Following part will store the protein embedding into a json file. \n",
    "'''\n",
    "with open('6_protein_sequence.json', 'w') as file:\n",
    "    json.dump(protein_dict, file)\n",
    "'''"
   ]
  }
 ],
 "metadata": {
  "kernelspec": {
   "display_name": "Python 3 (ipykernel)",
   "language": "python",
   "name": "python3"
  },
  "language_info": {
   "codemirror_mode": {
    "name": "ipython",
    "version": 3
   },
   "file_extension": ".py",
   "mimetype": "text/x-python",
   "name": "python",
   "nbconvert_exporter": "python",
   "pygments_lexer": "ipython3",
   "version": "3.10.12"
  }
 },
 "nbformat": 4,
 "nbformat_minor": 5
}
