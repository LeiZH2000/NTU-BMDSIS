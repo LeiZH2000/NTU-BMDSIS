{
 "cells": [
  {
   "cell_type": "code",
   "execution_count": 1,
   "id": "0e94d251-1d88-4a24-a762-e039f6d6d6d2",
   "metadata": {
    "tags": []
   },
   "outputs": [],
   "source": [
    "from Bio import SeqIO, motifs\n",
    "from Bio.Seq import Seq\n",
    "import pandas as pd\n",
    "import matplotlib.pyplot as plt\n",
    "import numpy as np\n",
    "import math\n",
    "from collections import Counter\n",
    "import shutil\n",
    "import os\n",
    "import csv\n",
    "import requests\n",
    "from bs4 import BeautifulSoup\n",
    "from io import StringIO\n",
    "import random\n",
    "import re"
   ]
  },
  {
   "cell_type": "code",
   "execution_count": 2,
   "id": "c2747670-6d3e-4496-abd2-dffdca4f3b3c",
   "metadata": {
    "tags": []
   },
   "outputs": [],
   "source": [
    "DNA_inf = pd.read_csv(\"success_download.csv\")\n",
    "inf = {}\n",
    "\n",
    "for i in range(len(DNA_inf)):\n",
    "    inf[DNA_inf.loc[i,\"ID\"]] =  DNA_inf.loc[i,\"Uniprot ID\"]"
   ]
  },
  {
   "cell_type": "code",
   "execution_count": 5,
   "id": "68d9e1d7-a772-4fa5-acd6-7e0df260d0f8",
   "metadata": {
    "tags": []
   },
   "outputs": [],
   "source": [
    "def check_score(matrix_name, seq):\n",
    "    \n",
    "    jaspar_matrix = f\"3_Frequency_matrix/download_JASPAR/{matrix_name}.jaspar\"\n",
    "    with open(jaspar_matrix) as f_temp:\n",
    "        jaspar_motifs = motifs.parse(f_temp, \"jaspar\")\n",
    "\n",
    "    for motif in jaspar_motifs:\n",
    "        motif.__dict__['counts']\n",
    "    \n",
    "    score = 0\n",
    "    for q in range(len(seq)):\n",
    "        score += motif.__dict__['counts'][seq[q]][q]\n",
    "    length = len(motif.consensus)\n",
    "    \n",
    "    score_max = 0\n",
    "    for i in range(len(motif.consensus)):\n",
    "        score_max += motif.__dict__['counts'][motif.consensus[i]][i]\n",
    "    \n",
    "    re = score/score_max\n",
    "    return re"
   ]
  },
  {
   "cell_type": "code",
   "execution_count": null,
   "id": "3af940a0-95d5-42b1-90f7-31557a9cf8d1",
   "metadata": {
    "tags": []
   },
   "outputs": [],
   "source": [
    "csv_inf = []\n",
    "for matrix_name in list(inf.keys()):\n",
    "    pos_fasta = f\"4_Positive_data/{matrix_name}_final_cleaning.fasta\"\n",
    "    with open(pos_fasta, \"r\") as file_pos:\n",
    "        sequences_pos = list(SeqIO.parse(file_pos, \"fasta\"))\n",
    "    if len(inf[matrix_name]) > 6:\n",
    "        continue   \n",
    "        \n",
    "    for sub_pos in sequences_pos:\n",
    "        csv_inf.append((matrix_name,\n",
    "                       inf[matrix_name],\n",
    "                       str(sub_pos.seq),\n",
    "                       #int(re.search(r'\\((\\d+)\\)', sub_pos.description).group(1))\n",
    "                       check_score(matrix_name, str(sub_pos.seq)),\n",
    "                        1))\n",
    "        \n",
    "        \n",
    "    neg_fasta = f\"FASTA_80hom_negative_m/{matrix_name}_matrix_similarity.fasta\"\n",
    "    with open(neg_fasta, \"r\") as file_neg:\n",
    "        sequences_neg = list(SeqIO.parse(file_neg, \"fasta\"))\n",
    "        \n",
    "    for sub_neg in sequences_neg:\n",
    "        \n",
    "        csv_inf.append((matrix_name,\n",
    "                       inf[matrix_name],\n",
    "                       str(sub_neg.seq),\n",
    "                       check_score(matrix_name, str(sub_neg.seq)),\n",
    "                       0))\n",
    "        \n",
    "    print(matrix_name)    "
   ]
  },
  {
   "cell_type": "code",
   "execution_count": 7,
   "id": "2d347dd1-0529-4466-899a-9e98c2187330",
   "metadata": {
    "tags": []
   },
   "outputs": [],
   "source": [
    "# store the above data to .csv\n",
    "\n",
    "file_path = \"matrix_pos_neg_seq_80hom.csv\"\n",
    "\n",
    "with open(file_path, mode='w', newline='') as file:\n",
    "    writer = csv.writer(file)\n",
    "    writer.writerow([\"Matrix_ID\", \"Uniprot_ID\", \"DNA_Sequence\",\"score/max_score\",\"Label\"]) \n",
    "    \n",
    "    for item in csv_inf:\n",
    "        writer.writerow(item)"
   ]
  },
  {
   "cell_type": "code",
   "execution_count": null,
   "id": "e23ff24f-25e1-437f-8ebd-6ff58204d212",
   "metadata": {},
   "outputs": [],
   "source": []
  }
 ],
 "metadata": {
  "kernelspec": {
   "display_name": "Python 3 (ipykernel)",
   "language": "python",
   "name": "python3"
  },
  "language_info": {
   "codemirror_mode": {
    "name": "ipython",
    "version": 3
   },
   "file_extension": ".py",
   "mimetype": "text/x-python",
   "name": "python",
   "nbconvert_exporter": "python",
   "pygments_lexer": "ipython3",
   "version": "3.10.12"
  }
 },
 "nbformat": 4,
 "nbformat_minor": 5
}
