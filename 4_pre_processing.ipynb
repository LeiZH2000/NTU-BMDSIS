{
 "cells": [
  {
   "cell_type": "code",
   "execution_count": 6,
   "id": "e2ddca25-ac6d-47b8-bce8-7d346818517f",
   "metadata": {
    "tags": []
   },
   "outputs": [],
   "source": [
    "from Bio import SeqIO, motifs\n",
    "from Bio.Seq import Seq\n",
    "import pandas as pd\n",
    "import matplotlib.pyplot as plt\n",
    "import numpy as np\n",
    "import math\n",
    "from collections import Counter\n",
    "import shutil\n",
    "import os\n",
    "import csv\n",
    "import requests\n",
    "from bs4 import BeautifulSoup\n",
    "from io import StringIO\n",
    "import random"
   ]
  },
  {
   "cell_type": "code",
   "execution_count": 7,
   "id": "a2893910-3310-417d-ae6a-40e9131fa874",
   "metadata": {
    "tags": []
   },
   "outputs": [],
   "source": [
    "def count_uppercase_chars(input_string):\n",
    "    \n",
    "    count = 0\n",
    "    for char in input_string:\n",
    "        if char.isupper():\n",
    "            count += 1\n",
    "    return count"
   ]
  },
  {
   "cell_type": "code",
   "execution_count": 8,
   "id": "86528938-6358-4da8-a18b-39fe658d2b0d",
   "metadata": {
    "tags": []
   },
   "outputs": [],
   "source": [
    "def check_unequal(upper_sequence,most_common_element):\n",
    "    \n",
    "    error_sequence = []\n",
    "    for i in range(0,len(upper_sequence)):\n",
    "        if upper_sequence[i] != most_common_element:\n",
    "            error_sequence.append(i)\n",
    "            \n",
    "    return error_sequence"
   ]
  },
  {
   "cell_type": "code",
   "execution_count": 9,
   "id": "84af78e2-5d85-4f25-acd4-bb208f87637d",
   "metadata": {
    "tags": []
   },
   "outputs": [],
   "source": [
    "def copy_file(matrix_name):\n",
    "    \n",
    "    fasta_file_name = f\"{matrix_name}_cleaning.fasta\"\n",
    "\n",
    "    source_file_path = os.path.join(\"FASTA_matrix File\", f\"{matrix_name}.fasta\")\n",
    "    destination_file_path = os.path.join(\"clean1_9.20/\", fasta_file_name)\n",
    "    if os.path.exists(destination_file_path):\n",
    "        os.remove(destination_file_path)\n",
    "    try:\n",
    "        shutil.copy2(source_file_path, destination_file_path)\n",
    "    except Exception as e:\n",
    "        print(f\"An error occurred: {e}\")"
   ]
  },
  {
   "cell_type": "code",
   "execution_count": 20,
   "id": "68906ba7-31c0-4e6e-bd5b-9d556e71832d",
   "metadata": {
    "tags": []
   },
   "outputs": [],
   "source": [
    "# make the uppercase to be same number\n",
    "def modify(matrix_name):\n",
    "    folder = \"FASTA_matrix_initial/\"\n",
    "    fasta_matrix = f\"{folder}{matrix_name}.fasta\"\n",
    "    \n",
    "    with open(fasta_matrix, \"r\") as file:\n",
    "        sequences = list(SeqIO.parse(file, \"fasta\"))\n",
    "    \n",
    "    upper_sequence = []\n",
    "    for seq_record in sequences:\n",
    "        upper_sequence.append(count_uppercase_chars(seq_record.seq))\n",
    "\n",
    "    element_counts = Counter(upper_sequence)\n",
    "    most_common_element = element_counts.most_common(1)[0][0]\n",
    "\n",
    "    error_sequence = check_unequal(upper_sequence,most_common_element)\n",
    "    \n",
    "    if error_sequence == []:\n",
    "        print(matrix_name + \": No error, copy!!\")\n",
    "        #copy_file(matrix_name)\n",
    "        return\n",
    "    else:\n",
    "        for seq in error_sequence:\n",
    "            if len(sequences[seq]) == most_common_element:\n",
    "                sequences[seq].seq = sequences[seq].seq.upper()\n",
    "            else:\n",
    "                print(matrix_name + \" need modified\")\n",
    "                return matrix_name\n",
    "        \n",
    "        #file_path = f\"{matrix_name}_cleaning.fasta\"\n",
    "        #with open(file_path, \"w\") as fileabc:\n",
    "         #   SeqIO.write(sequences, fileabc, \"fasta\")   \n",
    "        #shutil.move(file_path, \"clean1_9.20/\")\n",
    "       \n",
    "    print(matrix_name + \" is modified\")"
   ]
  },
  {
   "cell_type": "code",
   "execution_count": 21,
   "id": "d7fcefaa-4bed-4d5a-a4dd-6e6762e6ec5c",
   "metadata": {
    "tags": []
   },
   "outputs": [],
   "source": [
    "DNA_inf = pd.read_csv(\"success_download.csv\")\n",
    "matrix_ID_list = []\n",
    "\n",
    "for i in range(len(DNA_inf)):\n",
    "    matrix_ID_list.append(DNA_inf.loc[i,\"ID\"])\n",
    "matrix_ID_list.remove(\"MA0036.1\")"
   ]
  },
  {
   "cell_type": "code",
   "execution_count": null,
   "id": "1d09989e-abb7-49f5-8976-4fe826976a50",
   "metadata": {
    "tags": []
   },
   "outputs": [],
   "source": [
    "need_modify = []\n",
    "for matrix_name in matrix_ID_list:\n",
    "    need_modify.append(modify(matrix_name))"
   ]
  },
  {
   "cell_type": "code",
   "execution_count": 105,
   "id": "54c108e2-cf26-4cf0-971d-782b47c66dd8",
   "metadata": {
    "tags": []
   },
   "outputs": [
    {
     "name": "stdout",
     "output_type": "stream",
     "text": [
      "MA1587.1 is modified\n",
      "MA1588.1 is modified\n",
      "MA1589.1 is modified\n",
      "MA1593.1 is modified\n",
      "MA1594.1 is modified\n",
      "MA1596.1 is modified\n",
      "MA1597.1 is modified\n",
      "MA1715.1 is modified\n",
      "MA1718.1 is modified\n",
      "MA1721.1 is modified\n",
      "MA1729.1 is modified\n",
      "MA1969.1 is modified\n",
      "MA1974.1 is modified\n",
      "MA1979.1 is modified\n",
      "MA1983.1 is modified\n"
     ]
    }
   ],
   "source": [
    "for matrix_name in qwe:\n",
    "    #matrix_name = 'MA1585.1'\n",
    "    folder = \"FASTA_80hom/\"\n",
    "    fasta_matrix = f\"{folder}{matrix_name}.fasta\"\n",
    "    \n",
    "    with open(fasta_matrix, \"r\") as file:\n",
    "        sequences = list(SeqIO.parse(file, \"fasta\"))\n",
    "    \n",
    "    upper_sequence = []\n",
    "    for seq_record in sequences:\n",
    "        upper_sequence.append(count_uppercase_chars(seq_record.seq))\n",
    "\n",
    "    element_counts = Counter(upper_sequence)\n",
    "    #most_common_element = element_counts.most_common(2)[1][0]\n",
    "    most_common_element = max(element_counts.most_common(), key=lambda x: x[0])[0]\n",
    "\n",
    "    error_sequence = check_unequal(upper_sequence,most_common_element)\n",
    "    \n",
    "\n",
    "    for seq in error_sequence:\n",
    "        if len(sequences[seq]) == most_common_element:\n",
    "            #pass\n",
    "            sequences[seq].seq = sequences[seq].seq.upper()\n",
    "        else:\n",
    "            print(matrix_name + \" need modified\")\n",
    "            break\n",
    "            #pass\n",
    "      \n",
    "    file_path = f\"{matrix_name}_cleaning.fasta\"\n",
    "    with open(file_path, \"w\") as fileabc:\n",
    "        SeqIO.write(sequences, fileabc, \"fasta\")   \n",
    "    shutil.move(file_path, \"clean1_9.20/\")\n",
    "       \n",
    "    print(matrix_name + \" is modified\")\n",
    "    "
   ]
  },
  {
   "cell_type": "code",
   "execution_count": 131,
   "id": "26bdd25d-920b-4575-b5ff-ce15a8c1781f",
   "metadata": {
    "tags": []
   },
   "outputs": [],
   "source": [
    "def uppercase_pos(seq_pos):\n",
    "    return [index for index, char in enumerate(seq_pos) if char.isupper()]"
   ]
  },
  {
   "cell_type": "code",
   "execution_count": null,
   "id": "be199a40-a1bb-4759-85c6-2ad5ad70991e",
   "metadata": {
    "tags": []
   },
   "outputs": [],
   "source": [
    "# remain the uppercase\n",
    "for matrix_name in matrix_ID_list:\n",
    "    #matrix_name = \"MA0002.1\"\n",
    "    folder = \"clean1_9.20/\"\n",
    "    fasta_matrix = f\"{folder}{matrix_name}_cleaning.fasta\"\n",
    "    \n",
    "    with open(fasta_matrix, \"r\") as file:\n",
    "        sequences = list(SeqIO.parse(file, \"fasta\"))\n",
    "    \n",
    "    for sub_seq in sequences:\n",
    "        listpos_upper = uppercase_pos(sub_seq)\n",
    "        start = sub_seq.seq[0:0]\n",
    "        lent = sub_seq.seq[listpos_upper[0]:listpos_upper[-1]+1]\n",
    "        sub_seq.seq = start + lent\n",
    "    \n",
    "    file_path = f\"{matrix_name}_cleaning.fasta\"\n",
    "    with open(file_path, \"w\") as fileabc:\n",
    "        SeqIO.write(sequences, fileabc, \"fasta\")   \n",
    "    shutil.move(file_path, \"clean2_9.20/\")\n",
    "       \n",
    "    print(matrix_name + \" is modified\")\n",
    "    \n"
   ]
  },
  {
   "cell_type": "code",
   "execution_count": 5,
   "id": "7187234a-ca75-418e-b7f0-326b24671579",
   "metadata": {},
   "outputs": [],
   "source": [
    "def read_clstr(matrix_name):\n",
    "    folder_ndf = \"non_homologous/\"\n",
    "    file_name = f\"{folder_ndf}{matrix_name}_80hom.fasta.clstr\"\n",
    "    clusters = {}\n",
    "    with open(file_name, 'r') as file:\n",
    "        cluster_id = None\n",
    "        for line in file:\n",
    "            line = line.strip()\n",
    "            if line.startswith(\">Cluster\"):\n",
    "                cluster_id = int(line.split()[1])\n",
    "                clusters[cluster_id] = []\n",
    "            else:\n",
    "                sequence_info = {}\n",
    "                parts = line.split(', ')\n",
    "                sequence_info['length'] = parts[0].split('\\t')[1]\n",
    "                sequence_info['name'] = parts[1].split()[0]\n",
    "                if \"at\" in parts[1]:\n",
    "                    sequence_info['similarity'] = parts[1].split(\" at \")[1]\n",
    "                else:\n",
    "                    sequence_info['similarity'] = \"Representative\"\n",
    "                clusters[cluster_id].append(sequence_info)\n",
    "    return clusters"
   ]
  },
  {
   "cell_type": "code",
   "execution_count": null,
   "id": "36d5c663-ce4e-41ba-b5b4-31488322bad5",
   "metadata": {
    "tags": []
   },
   "outputs": [],
   "source": [
    "file_name = \"MA0003.2\"\n",
    "clusters = read_clstr(file_name)\n",
    "for cluster_id, sequences_cluster in clusters.items():\n",
    "    print(f\"Cluster {cluster_id}:\")\n",
    "    for seq_info in sequences_cluster:\n",
    "        print(f\"  {seq_info['name']} ({seq_info['length']}) - {seq_info['similarity']}\")\n"
   ]
  },
  {
   "cell_type": "code",
   "execution_count": null,
   "id": "10926c3f-f1f7-4c3a-ae75-28e82fad379e",
   "metadata": {
    "tags": []
   },
   "outputs": [],
   "source": [
    "for matrix_name in matrix_ID_list:\n",
    "    #matrix_name = 'MA0002.1'\n",
    "    folder = \"non_homologous/\"\n",
    "    fasta_matrix = f\"{folder}{matrix_name}_80hom.fasta\"\n",
    "    clusters = read_clstr(matrix_name)\n",
    "\n",
    "    with open(fasta_matrix, \"r\") as file:\n",
    "        sequences = list(SeqIO.parse(file, \"fasta\"))\n",
    "    \n",
    "    \n",
    "    if len(sequences) != len(clusters):\n",
    "        print(f\"{matrix_name} length is not the same!!!!!\")\n",
    "        break\n",
    "    for i in range(len(sequences)):\n",
    "        if \"(+)\" in sequences[i].description or \"(-)\" in sequences[i].description:\n",
    "            new_string = sequences[i].id[:-2] + str(len(clusters[i])) + sequences[i].id[-1]\n",
    "            sequences[i].id = new_string\n",
    "            sequences[i].description = new_string\n",
    "        else:\n",
    "            new_string = sequences[i].description + f\"({len(clusters[i])})\"\n",
    "            sequences[i].description = new_string\n",
    "       \n",
    "    \n",
    "    file_path = f\"{matrix_name}_80hom.fasta\"\n",
    "    with open(file_path, \"w\") as fileabc:\n",
    "        SeqIO.write(sequences, fileabc, \"fasta\")   \n",
    "    shutil.move(file_path, \"FASTA_80hom\")\n",
    "       \n",
    "    print(matrix_name + \" is modified\")\n",
    "    "
   ]
  },
  {
   "cell_type": "code",
   "execution_count": 238,
   "id": "30c0b28e-4fb9-47d2-aa1c-e4d2db4838d6",
   "metadata": {
    "tags": []
   },
   "outputs": [
    {
     "name": "stdout",
     "output_type": "stream",
     "text": [
      "MA0036.1\n"
     ]
    }
   ],
   "source": [
    "for matrix_name in matrix_ID_list:\n",
    "    #matrix_name = 'MA0002.1'\n",
    "    folder = \"non_duplicate_files2.0/\"\n",
    "    fasta_matrix = f\"{folder}{matrix_name}_non_dup.fasta\"\n",
    "    clusters = read_clstr(matrix_name)\n",
    "\n",
    "    with open(fasta_matrix, \"r\") as file:\n",
    "        sequences = list(SeqIO.parse(file, \"fasta\"))\n",
    "    \n",
    "    if len(sequences) == 0:\n",
    "        print(matrix_name)\n",
    "        break"
   ]
  },
  {
   "cell_type": "markdown",
   "id": "13a072b2-b49c-4616-bf75-65531a471e14",
   "metadata": {},
   "source": [
    "# So the 4_positive_data will be the data used in the modeling"
   ]
  },
  {
   "cell_type": "code",
   "execution_count": null,
   "id": "d548a71f-56b7-4078-bd66-6da42853780b",
   "metadata": {},
   "outputs": [],
   "source": []
  }
 ],
 "metadata": {
  "kernelspec": {
   "display_name": "Python 3 (ipykernel)",
   "language": "python",
   "name": "python3"
  },
  "language_info": {
   "codemirror_mode": {
    "name": "ipython",
    "version": 3
   },
   "file_extension": ".py",
   "mimetype": "text/x-python",
   "name": "python",
   "nbconvert_exporter": "python",
   "pygments_lexer": "ipython3",
   "version": "3.10.12"
  }
 },
 "nbformat": 4,
 "nbformat_minor": 5
}
