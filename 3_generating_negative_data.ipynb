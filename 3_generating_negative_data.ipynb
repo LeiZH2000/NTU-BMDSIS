{
 "cells": [
  {
   "cell_type": "code",
   "execution_count": 1,
   "id": "b0baf476-6458-44bc-b147-383eeb406021",
   "metadata": {
    "tags": []
   },
   "outputs": [],
   "source": [
    "from Bio import SeqIO, motifs\n",
    "from Bio.Seq import Seq\n",
    "import pandas as pd\n",
    "import matplotlib.pyplot as plt\n",
    "import numpy as np\n",
    "import math\n",
    "from collections import Counter\n",
    "import shutil\n",
    "import os\n",
    "import csv\n",
    "import requests\n",
    "from bs4 import BeautifulSoup\n",
    "from io import StringIO\n",
    "import random\n",
    "import re"
   ]
  },
  {
   "cell_type": "code",
   "execution_count": 2,
   "id": "b2b3223c-d426-430f-b903-a4749c6fd897",
   "metadata": {
    "tags": []
   },
   "outputs": [],
   "source": [
    "def uppercase_pos(input_string):\n",
    "    return [index for index, char in enumerate(input_string) if char.isupper()]"
   ]
  },
  {
   "cell_type": "code",
   "execution_count": 3,
   "id": "a7fdab76-6560-4480-a511-60c14cb3d6cd",
   "metadata": {
    "tags": []
   },
   "outputs": [],
   "source": [
    "def shuffle_sequence(seq):\n",
    "    seq_list = list(seq)\n",
    "    random.shuffle(seq_list)\n",
    "    return ''.join(seq_list)"
   ]
  },
  {
   "cell_type": "code",
   "execution_count": 5,
   "id": "7cc68bfa-6bcd-4e13-b7ea-1a224bb22a07",
   "metadata": {
    "tags": []
   },
   "outputs": [],
   "source": [
    "DNA_inf = pd.read_csv(\"success_download.csv\")\n",
    "matrix_ID_list = []\n",
    "\n",
    "for i in range(len(DNA_inf)):\n",
    "    matrix_ID_list.append(DNA_inf.loc[i,\"ID\"])\n",
    "    \n",
    "matrix_ID_list.remove(\"MA0036.1\")"
   ]
  },
  {
   "cell_type": "markdown",
   "id": "fa7092ea-becd-4315-a6d4-96c7f041fa65",
   "metadata": {},
   "source": [
    "#### Before that, I only keep the uppercase of the sequence and remove the lowercase for every DNA sequences.\n",
    "#### To generate the negative data, I random shuffle all the DNA sequence.\n"
   ]
  },
  {
   "cell_type": "code",
   "execution_count": null,
   "id": "fb1af282-620d-4ce9-8125-b76dd01945e0",
   "metadata": {
    "tags": []
   },
   "outputs": [],
   "source": [
    "for matrix_name in matrix_ID_list:\n",
    "    folder = \"3_FASTA_80hom/\"\n",
    "    fasta_matrix = f\"{folder}{matrix_name}_80hom.fasta\"\n",
    "    with open(fasta_matrix, \"r\") as file:\n",
    "        sequences = list(SeqIO.parse(file, \"fasta\"))\n",
    "        \n",
    "    unique_shuffled_sequences = set()\n",
    "    for sub_sequence in sequences:\n",
    "        \n",
    "        if \"(\" not in sub_sequence.id and \")\" not in sub_sequence.id:\n",
    "            sub_sequence.description = re.sub(r'\\([^)]*\\)', '', sub_sequence.description)\n",
    "        else:\n",
    "            new_string = re.sub(r'\\([^)]*\\)', '', sub_sequence.description)\n",
    "            sub_sequence.id = new_string\n",
    "            sub_sequence.description = new_string\n",
    "            sub_sequence.name = new_string\n",
    "            \n",
    "        check = False\n",
    "        \n",
    "        upper_pos = uppercase_pos(sub_sequence.seq)\n",
    "        if upper_pos == []:\n",
    "            continue\n",
    "        else:\n",
    "            start = sub_sequence.seq[0 : 0]\n",
    "            seq_list = list(sub_sequence.seq[upper_pos[0]:upper_pos[-1]+1])\n",
    "            random.shuffle(seq_list)\n",
    "            lent =  ''.join(seq_list)\n",
    "\n",
    "            unique_shuffled_sequences.add(lent)\n",
    "            \n",
    "            sub_sequence.seq = start + lent\n",
    "            \n",
    "    \n",
    "    with open(f\"{matrix_name}_80hom_random.fasta\", \"w\") as fileabc:\n",
    "        SeqIO.write(sequences, fileabc, \"fasta\")   \n",
    "    destination_path = f\"FASTA_80hom_random/{matrix_name}_80hom_random.fasta\"\n",
    "    if os.path.exists(destination_path):\n",
    "        os.remove(destination_path)\n",
    "    shutil.move(f\"{matrix_name}_80hom_random.fasta\", \"FASTA_80hom_random\")\n",
    "        \n",
    "    print(f\"{matrix_name}_80hom_random.fasta\")"
   ]
  },
  {
   "cell_type": "markdown",
   "id": "b6dbb132-c9e2-455f-99b4-928a3d40bccf",
   "metadata": {},
   "source": [
    "#### 1.\tBased on the similarity: I make an iteration that will check the similarity of each negative sequence with all the positive sequence according to the longest common subsequence. If there is one negative sequence that has over 0.7 similarity with the positive, this negative sequence will be reshuffle and check from the begin. This method takes too much time since the complexity is too high for the iteration (n3), so the negative data generated in this way is not being used (but it has been generated ^_^)."
   ]
  },
  {
   "cell_type": "code",
   "execution_count": 8,
   "id": "7c57c932-3b33-450a-92d1-7b91027314be",
   "metadata": {
    "tags": []
   },
   "outputs": [],
   "source": [
    "def longest_common_subsequence(str1, str2):\n",
    "\n",
    "    len_1 = len(str1) + 1\n",
    "    len_2 = len(str2) + 1\n",
    "\n",
    "    dp = [[0 for n in range(len_2)] for m in range(len_1)]\n",
    "    longest = 0\n",
    "    lcs_str = ''\n",
    "\n",
    "    for i in range(1, len_1):\n",
    "        for j in range(1, len_2):\n",
    "            if str1[i - 1] == str2[j - 1]:\n",
    "                if i == 1 or j == 1:\n",
    "                    dp[i][j] = 1\n",
    "                else:\n",
    "                    dp[i][j] = dp[i-1][j-1] + 1\n",
    "\n",
    "                if dp[i][j] > longest:\n",
    "                    longest = dp[i][j]\n",
    "                    lcs_str = str1[i - longest: i]\n",
    "            else:\n",
    "                dp[i][j] = 0\n",
    "    similarity = len(lcs_str)/len_2\n",
    "\n",
    "    return similarity"
   ]
  },
  {
   "cell_type": "code",
   "execution_count": null,
   "id": "cbae3e0d-3926-430c-ab25-60223f1135b5",
   "metadata": {},
   "outputs": [],
   "source": [
    "for matrix_name in matrix_ID_list:\n",
    "    folder_pos = \"FASTA_80hom/\"\n",
    "    fasta_matrix_pos = f\"{folder_pos}{matrix_name}_80hom.fasta\"\n",
    "    with open(fasta_matrix_pos, \"r\") as file_pos:\n",
    "        sequences_pos = list(SeqIO.parse(file_pos, \"fasta\"))\n",
    "        \n",
    "    folder_nag = \"FASTA_80hom_random/\"\n",
    "    fasta_matrix_nag = f\"{folder_nag}{matrix_name}_80hom_random.fasta\"\n",
    "    with open(fasta_matrix_nag, \"r\") as file_nag:\n",
    "        sequences_nag = list(SeqIO.parse(file_nag, \"fasta\"))\n",
    "    \n",
    "    i = 0\n",
    "    for sub_sequence1 in sequences_nag:\n",
    "        j = 0\n",
    "        if i % 50 == 0:\n",
    "            print(f\"-------------negative data {i} line-------------\")\n",
    "        sub_sequence_nag = sub_sequence1.seq\n",
    "        \n",
    "        for sub_sequence2 in sequences_pos:\n",
    "            reroll = False\n",
    "            #print(f\"positive data {j} line\")\n",
    "            sub_sequence_pos = ''.join([char for char in sub_sequence2.seq if char.isupper()])\n",
    "            similarity = longest_common_subsequence(sub_sequence_nag,sub_sequence_pos)\n",
    "            \n",
    "            if similarity >= 0.8:\n",
    "                print(similarity)\n",
    "                reroll = True\n",
    "                \n",
    "            while reroll == True:\n",
    "                #print(\"Re-shuffle\",i,j)\n",
    "                start = sub_sequence1.seq[0:0]\n",
    "                lent = shuffle_sequence(sub_sequence1.seq)\n",
    "                sub_sequence1.seq = start + lent\n",
    "                similarity_list = []\n",
    "                for sub_sequence2_check in sequences_pos[0:j+1]:\n",
    "                    #print(f\"Re-shuffle: positive data check\")\n",
    "                    sub_sequence_pos_check = ''.join([char for char in sub_sequence2_check.seq if char.isupper()])\n",
    "                    similarity = longest_common_subsequence(sub_sequence1.seq,sub_sequence_pos_check)\n",
    "                    similarity_list.append(similarity)\n",
    "                #print(max(similarity_list))\n",
    "                if max(similarity_list) < 0.8:\n",
    "                    reroll = False \n",
    "            j += 1\n",
    "        i += 1\n",
    "    \n",
    "    \n",
    "    with open(f\"{matrix_name}_random.fasta\", \"w\") as fileabc:\n",
    "        SeqIO.write(sequences_nag, fileabc, \"fasta\")   \n",
    "    destination_path = f\"3_FASTA_80hom_2_negative_similarity/{matrix_name}_random.fasta\"\n",
    "    if os.path.exists(destination_path):\n",
    "        os.remove(destination_path)\n",
    "    shutil.move(f\"{matrix_name}_random.fasta\", \"3_FASTA_80hom_2_negative_similarity\")\n",
    "        \n",
    "    print(f\"{matrix_name}_random.fasta\")"
   ]
  },
  {
   "cell_type": "markdown",
   "id": "68def14c-8b45-4b19-b394-899c4ea95e68",
   "metadata": {},
   "source": [
    "##### 2.\tBased on the frequency matrix: the new negative sequence is generated based on the Frequency matrix of each DNA get from JASPAR. The lower score will have the high probability to be assigned to each position. The negative data generated in this way is used in later processing."
   ]
  },
  {
   "cell_type": "code",
   "execution_count": null,
   "id": "f29de441-12d1-4806-b77e-709b9a86a727",
   "metadata": {},
   "outputs": [],
   "source": [
    "def check_score(seq):\n",
    "    score = 0\n",
    "    for q in range(len(seq)):\n",
    "        score += motif.__dict__['counts'][seq[q]][q]\n",
    "    length = len(motif.consensus)\n",
    "    \n",
    "    score_max = 0\n",
    "    for i in range(len(motif.consensus)):\n",
    "        score_max += motif.__dict__['counts'][motif.consensus[i]][i]\n",
    "    return score, score_max"
   ]
  },
  {
   "cell_type": "code",
   "execution_count": null,
   "id": "e710b166-cdbc-4411-992c-9ae21859f677",
   "metadata": {},
   "outputs": [],
   "source": [
    "DNA_inf = pd.read_csv(\"success_download.csv\")\n",
    "matrix_ID_list = []\n",
    "\n",
    "for i in range(len(DNA_inf)):\n",
    "    matrix_ID_list.append(DNA_inf.loc[i,\"ID\"])"
   ]
  },
  {
   "cell_type": "code",
   "execution_count": null,
   "id": "4c698a9e-c061-4e5f-b573-583529baba15",
   "metadata": {},
   "outputs": [],
   "source": [
    "for matrix_name in matrix_ID_list:\n",
    "    fasta_matrix = f\"FASTA_80hom/{matrix_name}_80hom.fasta\"\n",
    "    with open(fasta_matrix, \"r\") as file:\n",
    "        sequences = list(SeqIO.parse(file, \"fasta\"))\n",
    "\n",
    "    jaspar_matrix = f\"3_Frequency_matrix/download_JASPAR/{matrix_name}.jaspar\"\n",
    "    with open(jaspar_matrix) as f:\n",
    "        jaspar_motifs = motifs.parse(f, \"jaspar\")\n",
    "\n",
    "    for motif in jaspar_motifs:\n",
    "        motif.__dict__['counts']\n",
    "    \n",
    "    ls = []   \n",
    "    for n in range(len(sequences)):\n",
    "        checkpass = False\n",
    "        #print(sequences[n].seq, check_score(sequences[n].seq))\n",
    "    \n",
    "        while checkpass == False:\n",
    "            sequences_new = ''\n",
    "            letters = ['A', 'C', 'G', 'T']\n",
    "            length = len(motif)\n",
    "            for i in range(length):\n",
    "                weights = {'A': motif.__dict__['counts']['A'][i]+1, 'C': motif.__dict__['counts']['C'][i]+1,\n",
    "                           'G': motif.__dict__['counts']['G'][i]+1, 'T': motif.__dict__['counts']['T'][i]+1}\n",
    "                letters = list(weights.keys())\n",
    "\n",
    "                total_inverse = 0\n",
    "                for weight in weights.values():\n",
    "                    total_inverse += 1/weight\n",
    "        \n",
    "                probabilities = []\n",
    "                for letter in letters:\n",
    "                    probabilities.append((1/weights[letter]) / total_inverse)\n",
    "                new_seq = ''.join(random.choices(letters, weights=probabilities, k=1))\n",
    "                sequences_new += new_seq\n",
    "        \n",
    "            score, max_score = check_score(sequences_new)\n",
    "        \n",
    "            if sequences_new not in ls and score <= (max_score/4):\n",
    "                ls.append(sequences_new)\n",
    "                checkpass = True\n",
    "            #print(sequences_new,score, max_score)\n",
    "            #print(\"--------------\")\n",
    "\n",
    "    \n",
    "        sequences[n].seq = sequences[n].seq[0 : 0] + sequences_new\n",
    "        if \"(\" not in sequences[n].id and \")\" not in sequences[n].id:\n",
    "            sequences[n].description = re.sub(r'\\([^)]*\\)', '', sequences[n].description)\n",
    "        else:\n",
    "            new_string = re.sub(r'\\([^)]*\\)', '', sequences[n].description)\n",
    "            sequences[n].id = new_string\n",
    "            sequences[n].description = new_string\n",
    "            sequences[n].name = new_string\n",
    "        \n",
    "\n",
    "    \n",
    "    with open(f\"{matrix_name}_matrix_similarity.fasta\", \"w\") as fileabc:\n",
    "        SeqIO.write(sequences, fileabc, \"fasta\")   \n",
    "    destination_path = f\"3_FASTA_80hom_3_negative_matrix/{matrix_name}_matrix_similarity.fasta\"\n",
    "    if os.path.exists(destination_path):\n",
    "        os.remove(destination_path)\n",
    "    shutil.move(f\"{matrix_name}_matrix_similarity.fasta\", \"3_FASTA_80hom_3_negative_matrix\")\n",
    "      \n",
    "    print(f\"{matrix_name}_matrix_similarity.fasta\")"
   ]
  }
 ],
 "metadata": {
  "kernelspec": {
   "display_name": "Python 3 (ipykernel)",
   "language": "python",
   "name": "python3"
  },
  "language_info": {
   "codemirror_mode": {
    "name": "ipython",
    "version": 3
   },
   "file_extension": ".py",
   "mimetype": "text/x-python",
   "name": "python",
   "nbconvert_exporter": "python",
   "pygments_lexer": "ipython3",
   "version": "3.10.12"
  }
 },
 "nbformat": 4,
 "nbformat_minor": 5
}
